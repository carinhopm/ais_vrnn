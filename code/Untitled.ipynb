{
 "cells": [
  {
   "cell_type": "markdown",
   "id": "e2698c24",
   "metadata": {},
   "source": [
    "## Loading Training data"
   ]
  },
  {
   "cell_type": "code",
   "execution_count": 1,
   "id": "8c166856",
   "metadata": {},
   "outputs": [],
   "source": [
    "# importing packages \n",
    "import pandas as pd \n",
    "\n",
    "import matplotlib.pyplot as plt\n",
    "import seaborn as sns\n",
    "import numpy as np\n",
    "import pandas as pd\n",
    "import requests\n",
    "import datetime\n",
    "import torch\n",
    "import torch.utils.data\n",
    "import os\n",
    "import importlib\n",
    "import sys\n",
    "import re\n",
    "import pickle\n",
    "from mpl_toolkits import mplot3d\n",
    "from io import BytesIO\n",
    "from math import log, exp, tan, atan, ceil\n",
    "from PIL import Image\n",
    "from utils import dataset_utils\n",
    "from utils import createAISdata\n",
    "#from utils import protobufDecoder\n",
    "#from utils import plotting\n",
    "from models import VRNN\n",
    "from Config import config\n",
    "\n",
    "# To measure the training time\n",
    "from time import time\n",
    "\n",
    "import pickle"
   ]
  },
  {
   "cell_type": "code",
   "execution_count": 2,
   "id": "67e929de",
   "metadata": {},
   "outputs": [
    {
     "name": "stdout",
     "output_type": "stream",
     "text": [
      ">> Using device: cpu\n"
     ]
    }
   ],
   "source": [
    "device = torch.device(\"cuda:0\" if torch.cuda.is_available() else \"cpu\")\n",
    "print(f\">> Using device: {device}\")\n",
    "if device==\"cuda:0\":\n",
    "    torch.no_grad()\n",
    "    torch.cuda.empty_cache()\n",
    "#timestamp = datetime.datetime.fromtimestamp(update.t_epoch_sec).strftime('%d/%m/%Y %H:%M:%S')\n",
    "\n",
    "shiptypes = config.SHIPTYPE_CARGO + config.SHIPTYPE_TANKER\n",
    "shipFileName = 'test'\n",
    "binedges = (config.LAT_EDGES, config.LON_EDGES, config.SOG_EDGES, config.COG_EDGES)\n",
    "batch_size = 4"
   ]
  },
  {
   "cell_type": "code",
   "execution_count": 3,
   "id": "1819c24f",
   "metadata": {},
   "outputs": [],
   "source": [
    "#path = \"C://Users//asm//OneDrive - Netcompany/University//Master Thesis//Data//Pickle//CargTank_1911.pkl\"\n",
    "#path_index = \"C://Users//asm//OneDrive - Netcompany/University//Master Thesis//Data//Pickle//CargTank_1911_idxs.pkl\"\n",
    "\n",
    "##path = \"C://Users//asm//OneDrive - Netcompany/University//Master Thesis//pickleFiles//CargTank.pkl\"\n",
    "##path_index = \"C://Users//asm//OneDrive - Netcompany/University//Master Thesis//pickleFiles//CargTank_idxs.pkl\"\n",
    "\n",
    "path = \"C://Users//asm//OneDrive - Netcompany/University//Master Thesis//Data//Pickle//\"\n",
    "path_index = \"C://Users//asm//OneDrive - Netcompany/University//Master Thesis//Data//Pickle//CargTank_dxs.pkl\"\n",
    "\n",
    "datasets_path = \"C://Users//asm//OneDrive - Netcompany/University//Master Thesis//Data//Pickle//\"\n",
    "#datasets_path = \"C://Users//asm//OneDrive - Netcompany/University//Master Thesis//Data//Pickle//\""
   ]
  },
  {
   "cell_type": "code",
   "execution_count": 4,
   "id": "5eeaefca",
   "metadata": {},
   "outputs": [],
   "source": [
    "class PadSequence:\n",
    "    def __call__(self, batch):\n",
    "                \n",
    "        # each element in \"batch\" is a tuple ( mmsis,  shiptypes,  lengths, inputs, targets)\n",
    "        # Get each sequence and pad it\n",
    "        mmsis = [x[0] for x in batch] # Maritime Mobile Service Identity numbers\n",
    "        shiptypes = [x[1] for x in batch] # tank, cargo, etc.\n",
    "        lengths = [x[2] for x in batch] # used as measure of size\n",
    "        inputs = [x[3] for x in batch] # they are normalized \n",
    "        targets = [x[4] for x in batch] # seems to contain the real path of the vessel\n",
    "                                        # lat, lon, speed, course (NOT NORMALIZED)\n",
    "                \n",
    "        inputs_padded = torch.nn.utils.rnn.pad_sequence(inputs, batch_first=True)\n",
    "        targets_padded = torch.nn.utils.rnn.pad_sequence(targets, batch_first=True)\n",
    "\n",
    "        return  torch.tensor(mmsis),  torch.tensor(shiptypes),  torch.tensor(lengths, dtype=torch.float), inputs_padded, targets_padded"
   ]
  },
  {
   "cell_type": "code",
   "execution_count": 5,
   "id": "0134face",
   "metadata": {},
   "outputs": [
    {
     "name": "stderr",
     "output_type": "stream",
     "text": [
      "dataPath: C://Users//asm//OneDrive - Netcompany/University//Master Thesis//Data//Pickle//\n",
      "fileName: CargTank.pkl\n",
      "self.params[dataFileName]: CargTank_dxs.pkl\n"
     ]
    },
    {
     "name": "stdout",
     "output_type": "stream",
     "text": [
      "self.datapath 12 C://Users//asm//OneDrive - Netcompany/University//Master Thesis//Data//Pickle//CargTank_dxs.pkl\n",
      "index:  22787567   total_updates:  643429\n"
     ]
    }
   ],
   "source": [
    "# different lengths (use max/min for dimensions)\n",
    "trainset = dataset_utils.AISDataset(dataPath = datasets_path, fileName = \"CargTank.pkl\")\n",
    "train_loader = torch.utils.data.DataLoader(trainset, batch_size=batch_size, shuffle=True, pin_memory=True, num_workers = 0, collate_fn=PadSequence())"
   ]
  },
  {
   "cell_type": "code",
   "execution_count": 6,
   "id": "8e75a942",
   "metadata": {},
   "outputs": [
    {
     "name": "stderr",
     "output_type": "stream",
     "text": [
      "dataPath: C://Users//asm//OneDrive - Netcompany/University//Master Thesis//Data//Pickle//\n",
      "fileName: CargTank.pkl\n",
      "self.params[dataFileName]: CargTank_dxs.pkl\n"
     ]
    }
   ],
   "source": [
    "testset = dataset_utils.AISDataset(dataPath = datasets_path, fileName = \"CargTank.pkl\", train_mean = trainset.mean)\n",
    "test_loader = torch.utils.data.DataLoader(testset, batch_size=batch_size, shuffle=False, pin_memory=True, num_workers = 0, collate_fn=PadSequence())"
   ]
  },
  {
   "cell_type": "code",
   "execution_count": 7,
   "id": "455211f8",
   "metadata": {},
   "outputs": [],
   "source": [
    "train_n = len(trainset)\n",
    "test_n = len(testset)\n",
    "num_batches = len(train_loader)\n",
    "num_epochs = 1"
   ]
  },
  {
   "cell_type": "code",
   "execution_count": 8,
   "id": "8dac505f",
   "metadata": {},
   "outputs": [
    {
     "name": "stdout",
     "output_type": "stream",
     "text": [
      "Training set size is: 10118 and Test set size is 2530 \n"
     ]
    }
   ],
   "source": [
    "print('Training set size is: {} and Test set size is {} '.format(train_n,test_n))"
   ]
  },
  {
   "cell_type": "code",
   "execution_count": 9,
   "id": "46646dd6",
   "metadata": {},
   "outputs": [
    {
     "data": {
      "text/plain": [
       "144"
      ]
     },
     "execution_count": 9,
     "metadata": {},
     "output_type": "execute_result"
    }
   ],
   "source": [
    "trainset.maxLength"
   ]
  },
  {
   "cell_type": "code",
   "execution_count": 10,
   "id": "8a803f53",
   "metadata": {},
   "outputs": [
    {
     "data": {
      "text/plain": [
       "144"
      ]
     },
     "execution_count": 10,
     "metadata": {},
     "output_type": "execute_result"
    }
   ],
   "source": [
    "testset.maxLength"
   ]
  },
  {
   "cell_type": "code",
   "execution_count": 42,
   "id": "26fe27f7",
   "metadata": {},
   "outputs": [],
   "source": [
    "model = VRNN.VRNN(input_shape=trainset.datadim, latent_shape=config.LATENT_SIZE, generative_bias=trainset.mean, device=device)\n",
    "optimizer = torch.optim.Adam(model.parameters(), lr=0.0003)"
   ]
  },
  {
   "cell_type": "code",
   "execution_count": 43,
   "id": "027079e9",
   "metadata": {},
   "outputs": [
    {
     "data": {
      "text/plain": [
       "167"
      ]
     },
     "execution_count": 43,
     "metadata": {},
     "output_type": "execute_result"
    }
   ],
   "source": [
    "trainset.datadim"
   ]
  },
  {
   "cell_type": "code",
   "execution_count": 44,
   "id": "e048003e",
   "metadata": {},
   "outputs": [],
   "source": [
    "def computeLoss(log_px, log_pz, log_qz, lengths, beta=1):\n",
    "    \n",
    "    max_len = len(log_px)\n",
    "    curmask = torch.arange(max_len, device=device)[:, None] < lengths[None, :] #max_seq_len X Batch\n",
    "    \n",
    "    log_px = torch.stack(log_px, dim=0) * curmask\n",
    "    log_px = log_px.sum(dim=0) #Sum over time\n",
    "   \n",
    "    log_pz = torch.stack(log_pz, dim=0) * curmask\n",
    "    log_qz = torch.stack(log_qz, dim=0) * curmask\n",
    "    kl = log_qz.sum(dim=0) - log_pz.sum(dim=0) #Sum over time\n",
    "    \n",
    "    loss = log_px - beta * kl #recon loss - beta_kl\n",
    "    loss = torch.mean(loss/lengths) #mean over batch\n",
    "    \n",
    "    return -loss, log_px, kl"
   ]
  },
  {
   "cell_type": "code",
   "execution_count": 45,
   "id": "f2b9c87f",
   "metadata": {},
   "outputs": [],
   "source": [
    "loss_tot = []\n",
    "kl_tot = []\n",
    "recon_tot = []\n",
    "val_loss_tot = []\n",
    "val_kl_tot = []\n",
    "val_recon_tot = []"
   ]
  },
  {
   "cell_type": "code",
   "execution_count": 46,
   "id": "47c2a18a",
   "metadata": {},
   "outputs": [
    {
     "data": {
      "text/plain": [
       "75"
      ]
     },
     "execution_count": 46,
     "metadata": {},
     "output_type": "execute_result"
    }
   ],
   "source": [
    "trainset.maxTrackLen_train"
   ]
  },
  {
   "cell_type": "code",
   "execution_count": 47,
   "id": "78ce0622",
   "metadata": {},
   "outputs": [
    {
     "data": {
      "text/plain": [
       "73"
      ]
     },
     "execution_count": 47,
     "metadata": {},
     "output_type": "execute_result"
    }
   ],
   "source": [
    "testset.maxTrackLen_test"
   ]
  },
  {
   "cell_type": "code",
   "execution_count": 28,
   "id": "2083888b",
   "metadata": {},
   "outputs": [
    {
     "data": {
      "text/plain": [
       "torch.Size([75, 10118, 100])"
      ]
     },
     "execution_count": 28,
     "metadata": {},
     "output_type": "execute_result"
    }
   ],
   "source": [
    "zmus = torch.zeros(trainset.maxTrackLen_train, train_n, config.LATENT_SIZE , device = 'cpu')\n",
    "\n",
    "zmus.shape"
   ]
  },
  {
   "cell_type": "code",
   "execution_count": 31,
   "id": "035ff180",
   "metadata": {},
   "outputs": [
    {
     "ename": "IndexError",
     "evalue": "dimension specified as 0 but tensor has no dimensions",
     "output_type": "error",
     "traceback": [
      "\u001b[1;31m---------------------------------------------------------------------------\u001b[0m",
      "\u001b[1;31mIndexError\u001b[0m                                Traceback (most recent call last)",
      "\u001b[1;32m<ipython-input-31-bd5d76ace40e>\u001b[0m in \u001b[0;36m<module>\u001b[1;34m\u001b[0m\n\u001b[0;32m      4\u001b[0m \u001b[0mmodel\u001b[0m\u001b[1;33m.\u001b[0m\u001b[0mtrain\u001b[0m\u001b[1;33m(\u001b[0m\u001b[1;33m)\u001b[0m\u001b[1;33m\u001b[0m\u001b[1;33m\u001b[0m\u001b[0m\n\u001b[0;32m      5\u001b[0m \u001b[1;33m\u001b[0m\u001b[0m\n\u001b[1;32m----> 6\u001b[1;33m \u001b[1;32mfor\u001b[0m \u001b[0mi\u001b[0m\u001b[1;33m,\u001b[0m \u001b[1;33m(\u001b[0m\u001b[0mmmsi\u001b[0m\u001b[1;33m,\u001b[0m \u001b[0mlabel\u001b[0m\u001b[1;33m,\u001b[0m\u001b[0mspeedBinLabel\u001b[0m\u001b[1;33m,\u001b[0m\u001b[0mcourseBinLabel\u001b[0m\u001b[1;33m,\u001b[0m \u001b[0mlengths\u001b[0m\u001b[1;33m,\u001b[0m \u001b[0minputs\u001b[0m\u001b[1;33m,\u001b[0m \u001b[0mtargets\u001b[0m\u001b[1;33m)\u001b[0m \u001b[1;32min\u001b[0m \u001b[0menumerate\u001b[0m\u001b[1;33m(\u001b[0m\u001b[0mtrain_loader\u001b[0m\u001b[1;33m)\u001b[0m\u001b[1;33m:\u001b[0m\u001b[1;33m\u001b[0m\u001b[1;33m\u001b[0m\u001b[0m\n\u001b[0m\u001b[0;32m      7\u001b[0m \u001b[1;33m\u001b[0m\u001b[0m\n\u001b[0;32m      8\u001b[0m     \u001b[0minputs\u001b[0m \u001b[1;33m=\u001b[0m \u001b[0minputs\u001b[0m\u001b[1;33m.\u001b[0m\u001b[0mto\u001b[0m\u001b[1;33m(\u001b[0m\u001b[0mdevice\u001b[0m\u001b[1;33m)\u001b[0m\u001b[1;33m\u001b[0m\u001b[1;33m\u001b[0m\u001b[0m\n",
      "\u001b[1;32m~\\Anaconda3\\lib\\site-packages\\torch\\utils\\data\\dataloader.py\u001b[0m in \u001b[0;36m__next__\u001b[1;34m(self)\u001b[0m\n\u001b[0;32m    361\u001b[0m \u001b[1;33m\u001b[0m\u001b[0m\n\u001b[0;32m    362\u001b[0m     \u001b[1;32mdef\u001b[0m \u001b[0m__next__\u001b[0m\u001b[1;33m(\u001b[0m\u001b[0mself\u001b[0m\u001b[1;33m)\u001b[0m\u001b[1;33m:\u001b[0m\u001b[1;33m\u001b[0m\u001b[1;33m\u001b[0m\u001b[0m\n\u001b[1;32m--> 363\u001b[1;33m         \u001b[0mdata\u001b[0m \u001b[1;33m=\u001b[0m \u001b[0mself\u001b[0m\u001b[1;33m.\u001b[0m\u001b[0m_next_data\u001b[0m\u001b[1;33m(\u001b[0m\u001b[1;33m)\u001b[0m\u001b[1;33m\u001b[0m\u001b[1;33m\u001b[0m\u001b[0m\n\u001b[0m\u001b[0;32m    364\u001b[0m         \u001b[0mself\u001b[0m\u001b[1;33m.\u001b[0m\u001b[0m_num_yielded\u001b[0m \u001b[1;33m+=\u001b[0m \u001b[1;36m1\u001b[0m\u001b[1;33m\u001b[0m\u001b[1;33m\u001b[0m\u001b[0m\n\u001b[0;32m    365\u001b[0m         \u001b[1;32mif\u001b[0m \u001b[0mself\u001b[0m\u001b[1;33m.\u001b[0m\u001b[0m_dataset_kind\u001b[0m \u001b[1;33m==\u001b[0m \u001b[0m_DatasetKind\u001b[0m\u001b[1;33m.\u001b[0m\u001b[0mIterable\u001b[0m \u001b[1;32mand\u001b[0m\u001b[0;31m \u001b[0m\u001b[0;31m\\\u001b[0m\u001b[1;33m\u001b[0m\u001b[1;33m\u001b[0m\u001b[0m\n",
      "\u001b[1;32m~\\Anaconda3\\lib\\site-packages\\torch\\utils\\data\\dataloader.py\u001b[0m in \u001b[0;36m_next_data\u001b[1;34m(self)\u001b[0m\n\u001b[0;32m    401\u001b[0m     \u001b[1;32mdef\u001b[0m \u001b[0m_next_data\u001b[0m\u001b[1;33m(\u001b[0m\u001b[0mself\u001b[0m\u001b[1;33m)\u001b[0m\u001b[1;33m:\u001b[0m\u001b[1;33m\u001b[0m\u001b[1;33m\u001b[0m\u001b[0m\n\u001b[0;32m    402\u001b[0m         \u001b[0mindex\u001b[0m \u001b[1;33m=\u001b[0m \u001b[0mself\u001b[0m\u001b[1;33m.\u001b[0m\u001b[0m_next_index\u001b[0m\u001b[1;33m(\u001b[0m\u001b[1;33m)\u001b[0m  \u001b[1;31m# may raise StopIteration\u001b[0m\u001b[1;33m\u001b[0m\u001b[1;33m\u001b[0m\u001b[0m\n\u001b[1;32m--> 403\u001b[1;33m         \u001b[0mdata\u001b[0m \u001b[1;33m=\u001b[0m \u001b[0mself\u001b[0m\u001b[1;33m.\u001b[0m\u001b[0m_dataset_fetcher\u001b[0m\u001b[1;33m.\u001b[0m\u001b[0mfetch\u001b[0m\u001b[1;33m(\u001b[0m\u001b[0mindex\u001b[0m\u001b[1;33m)\u001b[0m  \u001b[1;31m# may raise StopIteration\u001b[0m\u001b[1;33m\u001b[0m\u001b[1;33m\u001b[0m\u001b[0m\n\u001b[0m\u001b[0;32m    404\u001b[0m         \u001b[1;32mif\u001b[0m \u001b[0mself\u001b[0m\u001b[1;33m.\u001b[0m\u001b[0m_pin_memory\u001b[0m\u001b[1;33m:\u001b[0m\u001b[1;33m\u001b[0m\u001b[1;33m\u001b[0m\u001b[0m\n\u001b[0;32m    405\u001b[0m             \u001b[0mdata\u001b[0m \u001b[1;33m=\u001b[0m \u001b[0m_utils\u001b[0m\u001b[1;33m.\u001b[0m\u001b[0mpin_memory\u001b[0m\u001b[1;33m.\u001b[0m\u001b[0mpin_memory\u001b[0m\u001b[1;33m(\u001b[0m\u001b[0mdata\u001b[0m\u001b[1;33m)\u001b[0m\u001b[1;33m\u001b[0m\u001b[1;33m\u001b[0m\u001b[0m\n",
      "\u001b[1;32m~\\Anaconda3\\lib\\site-packages\\torch\\utils\\data\\_utils\\fetch.py\u001b[0m in \u001b[0;36mfetch\u001b[1;34m(self, possibly_batched_index)\u001b[0m\n\u001b[0;32m     45\u001b[0m         \u001b[1;32melse\u001b[0m\u001b[1;33m:\u001b[0m\u001b[1;33m\u001b[0m\u001b[1;33m\u001b[0m\u001b[0m\n\u001b[0;32m     46\u001b[0m             \u001b[0mdata\u001b[0m \u001b[1;33m=\u001b[0m \u001b[0mself\u001b[0m\u001b[1;33m.\u001b[0m\u001b[0mdataset\u001b[0m\u001b[1;33m[\u001b[0m\u001b[0mpossibly_batched_index\u001b[0m\u001b[1;33m]\u001b[0m\u001b[1;33m\u001b[0m\u001b[1;33m\u001b[0m\u001b[0m\n\u001b[1;32m---> 47\u001b[1;33m         \u001b[1;32mreturn\u001b[0m \u001b[0mself\u001b[0m\u001b[1;33m.\u001b[0m\u001b[0mcollate_fn\u001b[0m\u001b[1;33m(\u001b[0m\u001b[0mdata\u001b[0m\u001b[1;33m)\u001b[0m\u001b[1;33m\u001b[0m\u001b[1;33m\u001b[0m\u001b[0m\n\u001b[0m",
      "\u001b[1;32m<ipython-input-4-6aa1092ae84b>\u001b[0m in \u001b[0;36m__call__\u001b[1;34m(self, batch)\u001b[0m\n\u001b[0;32m     11\u001b[0m                                         \u001b[1;31m# lat, lon, speed, course (NOT NORMALIZED)\u001b[0m\u001b[1;33m\u001b[0m\u001b[1;33m\u001b[0m\u001b[1;33m\u001b[0m\u001b[0m\n\u001b[0;32m     12\u001b[0m \u001b[1;33m\u001b[0m\u001b[0m\n\u001b[1;32m---> 13\u001b[1;33m         \u001b[0minputs_padded\u001b[0m \u001b[1;33m=\u001b[0m \u001b[0mtorch\u001b[0m\u001b[1;33m.\u001b[0m\u001b[0mnn\u001b[0m\u001b[1;33m.\u001b[0m\u001b[0mutils\u001b[0m\u001b[1;33m.\u001b[0m\u001b[0mrnn\u001b[0m\u001b[1;33m.\u001b[0m\u001b[0mpad_sequence\u001b[0m\u001b[1;33m(\u001b[0m\u001b[0minputs\u001b[0m\u001b[1;33m,\u001b[0m \u001b[0mbatch_first\u001b[0m\u001b[1;33m=\u001b[0m\u001b[1;32mTrue\u001b[0m\u001b[1;33m)\u001b[0m\u001b[1;33m\u001b[0m\u001b[1;33m\u001b[0m\u001b[0m\n\u001b[0m\u001b[0;32m     14\u001b[0m         \u001b[0mtargets_padded\u001b[0m \u001b[1;33m=\u001b[0m \u001b[0mtorch\u001b[0m\u001b[1;33m.\u001b[0m\u001b[0mnn\u001b[0m\u001b[1;33m.\u001b[0m\u001b[0mutils\u001b[0m\u001b[1;33m.\u001b[0m\u001b[0mrnn\u001b[0m\u001b[1;33m.\u001b[0m\u001b[0mpad_sequence\u001b[0m\u001b[1;33m(\u001b[0m\u001b[0mtargets\u001b[0m\u001b[1;33m,\u001b[0m \u001b[0mbatch_first\u001b[0m\u001b[1;33m=\u001b[0m\u001b[1;32mTrue\u001b[0m\u001b[1;33m)\u001b[0m\u001b[1;33m\u001b[0m\u001b[1;33m\u001b[0m\u001b[0m\n\u001b[0;32m     15\u001b[0m \u001b[1;33m\u001b[0m\u001b[0m\n",
      "\u001b[1;32m~\\Anaconda3\\lib\\site-packages\\torch\\nn\\utils\\rnn.py\u001b[0m in \u001b[0;36mpad_sequence\u001b[1;34m(sequences, batch_first, padding_value)\u001b[0m\n\u001b[0;32m    358\u001b[0m     \u001b[0mmax_size\u001b[0m \u001b[1;33m=\u001b[0m \u001b[0msequences\u001b[0m\u001b[1;33m[\u001b[0m\u001b[1;36m0\u001b[0m\u001b[1;33m]\u001b[0m\u001b[1;33m.\u001b[0m\u001b[0msize\u001b[0m\u001b[1;33m(\u001b[0m\u001b[1;33m)\u001b[0m\u001b[1;33m\u001b[0m\u001b[1;33m\u001b[0m\u001b[0m\n\u001b[0;32m    359\u001b[0m     \u001b[0mtrailing_dims\u001b[0m \u001b[1;33m=\u001b[0m \u001b[0mmax_size\u001b[0m\u001b[1;33m[\u001b[0m\u001b[1;36m1\u001b[0m\u001b[1;33m:\u001b[0m\u001b[1;33m]\u001b[0m\u001b[1;33m\u001b[0m\u001b[1;33m\u001b[0m\u001b[0m\n\u001b[1;32m--> 360\u001b[1;33m     \u001b[0mmax_len\u001b[0m \u001b[1;33m=\u001b[0m \u001b[0mmax\u001b[0m\u001b[1;33m(\u001b[0m\u001b[1;33m[\u001b[0m\u001b[0ms\u001b[0m\u001b[1;33m.\u001b[0m\u001b[0msize\u001b[0m\u001b[1;33m(\u001b[0m\u001b[1;36m0\u001b[0m\u001b[1;33m)\u001b[0m \u001b[1;32mfor\u001b[0m \u001b[0ms\u001b[0m \u001b[1;32min\u001b[0m \u001b[0msequences\u001b[0m\u001b[1;33m]\u001b[0m\u001b[1;33m)\u001b[0m\u001b[1;33m\u001b[0m\u001b[1;33m\u001b[0m\u001b[0m\n\u001b[0m\u001b[0;32m    361\u001b[0m     \u001b[1;32mif\u001b[0m \u001b[0mbatch_first\u001b[0m\u001b[1;33m:\u001b[0m\u001b[1;33m\u001b[0m\u001b[1;33m\u001b[0m\u001b[0m\n\u001b[0;32m    362\u001b[0m         \u001b[0mout_dims\u001b[0m \u001b[1;33m=\u001b[0m \u001b[1;33m(\u001b[0m\u001b[0mlen\u001b[0m\u001b[1;33m(\u001b[0m\u001b[0msequences\u001b[0m\u001b[1;33m)\u001b[0m\u001b[1;33m,\u001b[0m \u001b[0mmax_len\u001b[0m\u001b[1;33m)\u001b[0m \u001b[1;33m+\u001b[0m \u001b[0mtrailing_dims\u001b[0m\u001b[1;33m\u001b[0m\u001b[1;33m\u001b[0m\u001b[0m\n",
      "\u001b[1;32m~\\Anaconda3\\lib\\site-packages\\torch\\nn\\utils\\rnn.py\u001b[0m in \u001b[0;36m<listcomp>\u001b[1;34m(.0)\u001b[0m\n\u001b[0;32m    358\u001b[0m     \u001b[0mmax_size\u001b[0m \u001b[1;33m=\u001b[0m \u001b[0msequences\u001b[0m\u001b[1;33m[\u001b[0m\u001b[1;36m0\u001b[0m\u001b[1;33m]\u001b[0m\u001b[1;33m.\u001b[0m\u001b[0msize\u001b[0m\u001b[1;33m(\u001b[0m\u001b[1;33m)\u001b[0m\u001b[1;33m\u001b[0m\u001b[1;33m\u001b[0m\u001b[0m\n\u001b[0;32m    359\u001b[0m     \u001b[0mtrailing_dims\u001b[0m \u001b[1;33m=\u001b[0m \u001b[0mmax_size\u001b[0m\u001b[1;33m[\u001b[0m\u001b[1;36m1\u001b[0m\u001b[1;33m:\u001b[0m\u001b[1;33m]\u001b[0m\u001b[1;33m\u001b[0m\u001b[1;33m\u001b[0m\u001b[0m\n\u001b[1;32m--> 360\u001b[1;33m     \u001b[0mmax_len\u001b[0m \u001b[1;33m=\u001b[0m \u001b[0mmax\u001b[0m\u001b[1;33m(\u001b[0m\u001b[1;33m[\u001b[0m\u001b[0ms\u001b[0m\u001b[1;33m.\u001b[0m\u001b[0msize\u001b[0m\u001b[1;33m(\u001b[0m\u001b[1;36m0\u001b[0m\u001b[1;33m)\u001b[0m \u001b[1;32mfor\u001b[0m \u001b[0ms\u001b[0m \u001b[1;32min\u001b[0m \u001b[0msequences\u001b[0m\u001b[1;33m]\u001b[0m\u001b[1;33m)\u001b[0m\u001b[1;33m\u001b[0m\u001b[1;33m\u001b[0m\u001b[0m\n\u001b[0m\u001b[0;32m    361\u001b[0m     \u001b[1;32mif\u001b[0m \u001b[0mbatch_first\u001b[0m\u001b[1;33m:\u001b[0m\u001b[1;33m\u001b[0m\u001b[1;33m\u001b[0m\u001b[0m\n\u001b[0;32m    362\u001b[0m         \u001b[0mout_dims\u001b[0m \u001b[1;33m=\u001b[0m \u001b[1;33m(\u001b[0m\u001b[0mlen\u001b[0m\u001b[1;33m(\u001b[0m\u001b[0msequences\u001b[0m\u001b[1;33m)\u001b[0m\u001b[1;33m,\u001b[0m \u001b[0mmax_len\u001b[0m\u001b[1;33m)\u001b[0m \u001b[1;33m+\u001b[0m \u001b[0mtrailing_dims\u001b[0m\u001b[1;33m\u001b[0m\u001b[1;33m\u001b[0m\u001b[0m\n",
      "\u001b[1;31mIndexError\u001b[0m: dimension specified as 0 but tensor has no dimensions"
     ]
    }
   ],
   "source": [
    "loss_epoch = 0\n",
    "kl_epoch = 0\n",
    "recon_epoch = 0\n",
    "model.train()\n",
    "\n",
    "for i, (mmsi, label,speedBinLabel,courseBinLabel, lengths, inputs, targets) in enumerate(train_loader):\n",
    "    \n",
    "    inputs = inputs.to(device)\n",
    "    targets = targets.to(device)\n",
    "    lengths = lengths.to(device)\n",
    "\n",
    "    log_px, log_pz, log_qz, _, _, z_mus = model(inputs,targets,logits=None)\n",
    "\n",
    "    loss, log_px, kl = computeLoss(log_px, log_pz, log_qz, lengths)\n",
    "\n",
    "    model.zero_grad()\n",
    "    loss.backward()\n",
    "    optimizer.step()\n",
    "\n",
    "    loss_epoch += loss.item()*len(lengths)\n",
    "    kl_epoch += torch.sum(kl/lengths).item()\n",
    "    recon_epoch += torch.sum(log_px/lengths).item()\n",
    "\n",
    "    z_means = {\n",
    "        'Epoch': epoch,\n",
    "        'z_means': z_mus,\n",
    "        'labels': label,\n",
    "        'log_px': log_px,\n",
    "        'log_pz': log_pz,\n",
    "        'log_qz': log_qz\n",
    "        }\n",
    "    \n",
    "    print('z_mus.shape: ',z_mus.shape)\n",
    "\n",
    "    #with open('models/saved_models/latentSpace_train.pkl', \"wb\") as f:\n",
    "        #\n",
    "\n",
    "    #    pickle.dump(z_means, f)\n",
    "\n",
    "#loss_tot.append(loss_epoch/train_n)\n",
    "#kl_tot.append(kl_epoch/train_n)\n",
    "#recon_tot.append(recon_epoch/train_n)\n",
    "\n",
    "#Begin validation loop\n",
    "#val_loss = 0\n",
    "#val_kl = 0\n",
    "#val_recon = 0\n",
    "\n"
   ]
  },
  {
   "cell_type": "code",
   "execution_count": 30,
   "id": "7a787008",
   "metadata": {},
   "outputs": [
    {
     "ename": "IndexError",
     "evalue": "dimension specified as 0 but tensor has no dimensions",
     "output_type": "error",
     "traceback": [
      "\u001b[1;31m---------------------------------------------------------------------------\u001b[0m",
      "\u001b[1;31mIndexError\u001b[0m                                Traceback (most recent call last)",
      "\u001b[1;32m<ipython-input-30-1333fd0862f8>\u001b[0m in \u001b[0;36m<module>\u001b[1;34m\u001b[0m\n\u001b[0;32m     20\u001b[0m \u001b[1;31m#zmus = torch.zeros(trainset.maxTrackLen_train, train_n, config.LATENT_SIZE , device = 'cpu')\u001b[0m\u001b[1;33m\u001b[0m\u001b[1;33m\u001b[0m\u001b[1;33m\u001b[0m\u001b[0m\n\u001b[0;32m     21\u001b[0m \u001b[1;33m\u001b[0m\u001b[0m\n\u001b[1;32m---> 22\u001b[1;33m \u001b[1;32mfor\u001b[0m \u001b[0mi\u001b[0m\u001b[1;33m,\u001b[0m \u001b[1;33m(\u001b[0m\u001b[0mmmsi\u001b[0m\u001b[1;33m,\u001b[0m \u001b[0mlabel\u001b[0m\u001b[1;33m,\u001b[0m \u001b[0mlengths\u001b[0m\u001b[1;33m,\u001b[0m \u001b[0minputs\u001b[0m\u001b[1;33m,\u001b[0m \u001b[0mtargets\u001b[0m\u001b[1;33m)\u001b[0m \u001b[1;32min\u001b[0m \u001b[0menumerate\u001b[0m\u001b[1;33m(\u001b[0m\u001b[0mtrain_loader\u001b[0m\u001b[1;33m)\u001b[0m\u001b[1;33m:\u001b[0m\u001b[1;33m\u001b[0m\u001b[1;33m\u001b[0m\u001b[0m\n\u001b[0m\u001b[0;32m     23\u001b[0m     \u001b[0minputs\u001b[0m \u001b[1;33m=\u001b[0m \u001b[0minputs\u001b[0m\u001b[1;33m.\u001b[0m\u001b[0mto\u001b[0m\u001b[1;33m(\u001b[0m\u001b[0mdevice\u001b[0m\u001b[1;33m)\u001b[0m\u001b[1;33m\u001b[0m\u001b[1;33m\u001b[0m\u001b[0m\n\u001b[0;32m     24\u001b[0m     \u001b[0mtargets\u001b[0m \u001b[1;33m=\u001b[0m \u001b[0mtargets\u001b[0m\u001b[1;33m.\u001b[0m\u001b[0mto\u001b[0m\u001b[1;33m(\u001b[0m\u001b[0mdevice\u001b[0m\u001b[1;33m)\u001b[0m\u001b[1;33m\u001b[0m\u001b[1;33m\u001b[0m\u001b[0m\n",
      "\u001b[1;32m~\\Anaconda3\\lib\\site-packages\\torch\\utils\\data\\dataloader.py\u001b[0m in \u001b[0;36m__next__\u001b[1;34m(self)\u001b[0m\n\u001b[0;32m    361\u001b[0m \u001b[1;33m\u001b[0m\u001b[0m\n\u001b[0;32m    362\u001b[0m     \u001b[1;32mdef\u001b[0m \u001b[0m__next__\u001b[0m\u001b[1;33m(\u001b[0m\u001b[0mself\u001b[0m\u001b[1;33m)\u001b[0m\u001b[1;33m:\u001b[0m\u001b[1;33m\u001b[0m\u001b[1;33m\u001b[0m\u001b[0m\n\u001b[1;32m--> 363\u001b[1;33m         \u001b[0mdata\u001b[0m \u001b[1;33m=\u001b[0m \u001b[0mself\u001b[0m\u001b[1;33m.\u001b[0m\u001b[0m_next_data\u001b[0m\u001b[1;33m(\u001b[0m\u001b[1;33m)\u001b[0m\u001b[1;33m\u001b[0m\u001b[1;33m\u001b[0m\u001b[0m\n\u001b[0m\u001b[0;32m    364\u001b[0m         \u001b[0mself\u001b[0m\u001b[1;33m.\u001b[0m\u001b[0m_num_yielded\u001b[0m \u001b[1;33m+=\u001b[0m \u001b[1;36m1\u001b[0m\u001b[1;33m\u001b[0m\u001b[1;33m\u001b[0m\u001b[0m\n\u001b[0;32m    365\u001b[0m         \u001b[1;32mif\u001b[0m \u001b[0mself\u001b[0m\u001b[1;33m.\u001b[0m\u001b[0m_dataset_kind\u001b[0m \u001b[1;33m==\u001b[0m \u001b[0m_DatasetKind\u001b[0m\u001b[1;33m.\u001b[0m\u001b[0mIterable\u001b[0m \u001b[1;32mand\u001b[0m\u001b[0;31m \u001b[0m\u001b[0;31m\\\u001b[0m\u001b[1;33m\u001b[0m\u001b[1;33m\u001b[0m\u001b[0m\n",
      "\u001b[1;32m~\\Anaconda3\\lib\\site-packages\\torch\\utils\\data\\dataloader.py\u001b[0m in \u001b[0;36m_next_data\u001b[1;34m(self)\u001b[0m\n\u001b[0;32m    401\u001b[0m     \u001b[1;32mdef\u001b[0m \u001b[0m_next_data\u001b[0m\u001b[1;33m(\u001b[0m\u001b[0mself\u001b[0m\u001b[1;33m)\u001b[0m\u001b[1;33m:\u001b[0m\u001b[1;33m\u001b[0m\u001b[1;33m\u001b[0m\u001b[0m\n\u001b[0;32m    402\u001b[0m         \u001b[0mindex\u001b[0m \u001b[1;33m=\u001b[0m \u001b[0mself\u001b[0m\u001b[1;33m.\u001b[0m\u001b[0m_next_index\u001b[0m\u001b[1;33m(\u001b[0m\u001b[1;33m)\u001b[0m  \u001b[1;31m# may raise StopIteration\u001b[0m\u001b[1;33m\u001b[0m\u001b[1;33m\u001b[0m\u001b[0m\n\u001b[1;32m--> 403\u001b[1;33m         \u001b[0mdata\u001b[0m \u001b[1;33m=\u001b[0m \u001b[0mself\u001b[0m\u001b[1;33m.\u001b[0m\u001b[0m_dataset_fetcher\u001b[0m\u001b[1;33m.\u001b[0m\u001b[0mfetch\u001b[0m\u001b[1;33m(\u001b[0m\u001b[0mindex\u001b[0m\u001b[1;33m)\u001b[0m  \u001b[1;31m# may raise StopIteration\u001b[0m\u001b[1;33m\u001b[0m\u001b[1;33m\u001b[0m\u001b[0m\n\u001b[0m\u001b[0;32m    404\u001b[0m         \u001b[1;32mif\u001b[0m \u001b[0mself\u001b[0m\u001b[1;33m.\u001b[0m\u001b[0m_pin_memory\u001b[0m\u001b[1;33m:\u001b[0m\u001b[1;33m\u001b[0m\u001b[1;33m\u001b[0m\u001b[0m\n\u001b[0;32m    405\u001b[0m             \u001b[0mdata\u001b[0m \u001b[1;33m=\u001b[0m \u001b[0m_utils\u001b[0m\u001b[1;33m.\u001b[0m\u001b[0mpin_memory\u001b[0m\u001b[1;33m.\u001b[0m\u001b[0mpin_memory\u001b[0m\u001b[1;33m(\u001b[0m\u001b[0mdata\u001b[0m\u001b[1;33m)\u001b[0m\u001b[1;33m\u001b[0m\u001b[1;33m\u001b[0m\u001b[0m\n",
      "\u001b[1;32m~\\Anaconda3\\lib\\site-packages\\torch\\utils\\data\\_utils\\fetch.py\u001b[0m in \u001b[0;36mfetch\u001b[1;34m(self, possibly_batched_index)\u001b[0m\n\u001b[0;32m     45\u001b[0m         \u001b[1;32melse\u001b[0m\u001b[1;33m:\u001b[0m\u001b[1;33m\u001b[0m\u001b[1;33m\u001b[0m\u001b[0m\n\u001b[0;32m     46\u001b[0m             \u001b[0mdata\u001b[0m \u001b[1;33m=\u001b[0m \u001b[0mself\u001b[0m\u001b[1;33m.\u001b[0m\u001b[0mdataset\u001b[0m\u001b[1;33m[\u001b[0m\u001b[0mpossibly_batched_index\u001b[0m\u001b[1;33m]\u001b[0m\u001b[1;33m\u001b[0m\u001b[1;33m\u001b[0m\u001b[0m\n\u001b[1;32m---> 47\u001b[1;33m         \u001b[1;32mreturn\u001b[0m \u001b[0mself\u001b[0m\u001b[1;33m.\u001b[0m\u001b[0mcollate_fn\u001b[0m\u001b[1;33m(\u001b[0m\u001b[0mdata\u001b[0m\u001b[1;33m)\u001b[0m\u001b[1;33m\u001b[0m\u001b[1;33m\u001b[0m\u001b[0m\n\u001b[0m",
      "\u001b[1;32m<ipython-input-4-6aa1092ae84b>\u001b[0m in \u001b[0;36m__call__\u001b[1;34m(self, batch)\u001b[0m\n\u001b[0;32m     11\u001b[0m                                         \u001b[1;31m# lat, lon, speed, course (NOT NORMALIZED)\u001b[0m\u001b[1;33m\u001b[0m\u001b[1;33m\u001b[0m\u001b[1;33m\u001b[0m\u001b[0m\n\u001b[0;32m     12\u001b[0m \u001b[1;33m\u001b[0m\u001b[0m\n\u001b[1;32m---> 13\u001b[1;33m         \u001b[0minputs_padded\u001b[0m \u001b[1;33m=\u001b[0m \u001b[0mtorch\u001b[0m\u001b[1;33m.\u001b[0m\u001b[0mnn\u001b[0m\u001b[1;33m.\u001b[0m\u001b[0mutils\u001b[0m\u001b[1;33m.\u001b[0m\u001b[0mrnn\u001b[0m\u001b[1;33m.\u001b[0m\u001b[0mpad_sequence\u001b[0m\u001b[1;33m(\u001b[0m\u001b[0minputs\u001b[0m\u001b[1;33m,\u001b[0m \u001b[0mbatch_first\u001b[0m\u001b[1;33m=\u001b[0m\u001b[1;32mTrue\u001b[0m\u001b[1;33m)\u001b[0m\u001b[1;33m\u001b[0m\u001b[1;33m\u001b[0m\u001b[0m\n\u001b[0m\u001b[0;32m     14\u001b[0m         \u001b[0mtargets_padded\u001b[0m \u001b[1;33m=\u001b[0m \u001b[0mtorch\u001b[0m\u001b[1;33m.\u001b[0m\u001b[0mnn\u001b[0m\u001b[1;33m.\u001b[0m\u001b[0mutils\u001b[0m\u001b[1;33m.\u001b[0m\u001b[0mrnn\u001b[0m\u001b[1;33m.\u001b[0m\u001b[0mpad_sequence\u001b[0m\u001b[1;33m(\u001b[0m\u001b[0mtargets\u001b[0m\u001b[1;33m,\u001b[0m \u001b[0mbatch_first\u001b[0m\u001b[1;33m=\u001b[0m\u001b[1;32mTrue\u001b[0m\u001b[1;33m)\u001b[0m\u001b[1;33m\u001b[0m\u001b[1;33m\u001b[0m\u001b[0m\n\u001b[0;32m     15\u001b[0m \u001b[1;33m\u001b[0m\u001b[0m\n",
      "\u001b[1;32m~\\Anaconda3\\lib\\site-packages\\torch\\nn\\utils\\rnn.py\u001b[0m in \u001b[0;36mpad_sequence\u001b[1;34m(sequences, batch_first, padding_value)\u001b[0m\n\u001b[0;32m    358\u001b[0m     \u001b[0mmax_size\u001b[0m \u001b[1;33m=\u001b[0m \u001b[0msequences\u001b[0m\u001b[1;33m[\u001b[0m\u001b[1;36m0\u001b[0m\u001b[1;33m]\u001b[0m\u001b[1;33m.\u001b[0m\u001b[0msize\u001b[0m\u001b[1;33m(\u001b[0m\u001b[1;33m)\u001b[0m\u001b[1;33m\u001b[0m\u001b[1;33m\u001b[0m\u001b[0m\n\u001b[0;32m    359\u001b[0m     \u001b[0mtrailing_dims\u001b[0m \u001b[1;33m=\u001b[0m \u001b[0mmax_size\u001b[0m\u001b[1;33m[\u001b[0m\u001b[1;36m1\u001b[0m\u001b[1;33m:\u001b[0m\u001b[1;33m]\u001b[0m\u001b[1;33m\u001b[0m\u001b[1;33m\u001b[0m\u001b[0m\n\u001b[1;32m--> 360\u001b[1;33m     \u001b[0mmax_len\u001b[0m \u001b[1;33m=\u001b[0m \u001b[0mmax\u001b[0m\u001b[1;33m(\u001b[0m\u001b[1;33m[\u001b[0m\u001b[0ms\u001b[0m\u001b[1;33m.\u001b[0m\u001b[0msize\u001b[0m\u001b[1;33m(\u001b[0m\u001b[1;36m0\u001b[0m\u001b[1;33m)\u001b[0m \u001b[1;32mfor\u001b[0m \u001b[0ms\u001b[0m \u001b[1;32min\u001b[0m \u001b[0msequences\u001b[0m\u001b[1;33m]\u001b[0m\u001b[1;33m)\u001b[0m\u001b[1;33m\u001b[0m\u001b[1;33m\u001b[0m\u001b[0m\n\u001b[0m\u001b[0;32m    361\u001b[0m     \u001b[1;32mif\u001b[0m \u001b[0mbatch_first\u001b[0m\u001b[1;33m:\u001b[0m\u001b[1;33m\u001b[0m\u001b[1;33m\u001b[0m\u001b[0m\n\u001b[0;32m    362\u001b[0m         \u001b[0mout_dims\u001b[0m \u001b[1;33m=\u001b[0m \u001b[1;33m(\u001b[0m\u001b[0mlen\u001b[0m\u001b[1;33m(\u001b[0m\u001b[0msequences\u001b[0m\u001b[1;33m)\u001b[0m\u001b[1;33m,\u001b[0m \u001b[0mmax_len\u001b[0m\u001b[1;33m)\u001b[0m \u001b[1;33m+\u001b[0m \u001b[0mtrailing_dims\u001b[0m\u001b[1;33m\u001b[0m\u001b[1;33m\u001b[0m\u001b[0m\n",
      "\u001b[1;32m~\\Anaconda3\\lib\\site-packages\\torch\\nn\\utils\\rnn.py\u001b[0m in \u001b[0;36m<listcomp>\u001b[1;34m(.0)\u001b[0m\n\u001b[0;32m    358\u001b[0m     \u001b[0mmax_size\u001b[0m \u001b[1;33m=\u001b[0m \u001b[0msequences\u001b[0m\u001b[1;33m[\u001b[0m\u001b[1;36m0\u001b[0m\u001b[1;33m]\u001b[0m\u001b[1;33m.\u001b[0m\u001b[0msize\u001b[0m\u001b[1;33m(\u001b[0m\u001b[1;33m)\u001b[0m\u001b[1;33m\u001b[0m\u001b[1;33m\u001b[0m\u001b[0m\n\u001b[0;32m    359\u001b[0m     \u001b[0mtrailing_dims\u001b[0m \u001b[1;33m=\u001b[0m \u001b[0mmax_size\u001b[0m\u001b[1;33m[\u001b[0m\u001b[1;36m1\u001b[0m\u001b[1;33m:\u001b[0m\u001b[1;33m]\u001b[0m\u001b[1;33m\u001b[0m\u001b[1;33m\u001b[0m\u001b[0m\n\u001b[1;32m--> 360\u001b[1;33m     \u001b[0mmax_len\u001b[0m \u001b[1;33m=\u001b[0m \u001b[0mmax\u001b[0m\u001b[1;33m(\u001b[0m\u001b[1;33m[\u001b[0m\u001b[0ms\u001b[0m\u001b[1;33m.\u001b[0m\u001b[0msize\u001b[0m\u001b[1;33m(\u001b[0m\u001b[1;36m0\u001b[0m\u001b[1;33m)\u001b[0m \u001b[1;32mfor\u001b[0m \u001b[0ms\u001b[0m \u001b[1;32min\u001b[0m \u001b[0msequences\u001b[0m\u001b[1;33m]\u001b[0m\u001b[1;33m)\u001b[0m\u001b[1;33m\u001b[0m\u001b[1;33m\u001b[0m\u001b[0m\n\u001b[0m\u001b[0;32m    361\u001b[0m     \u001b[1;32mif\u001b[0m \u001b[0mbatch_first\u001b[0m\u001b[1;33m:\u001b[0m\u001b[1;33m\u001b[0m\u001b[1;33m\u001b[0m\u001b[0m\n\u001b[0;32m    362\u001b[0m         \u001b[0mout_dims\u001b[0m \u001b[1;33m=\u001b[0m \u001b[1;33m(\u001b[0m\u001b[0mlen\u001b[0m\u001b[1;33m(\u001b[0m\u001b[0msequences\u001b[0m\u001b[1;33m)\u001b[0m\u001b[1;33m,\u001b[0m \u001b[0mmax_len\u001b[0m\u001b[1;33m)\u001b[0m \u001b[1;33m+\u001b[0m \u001b[0mtrailing_dims\u001b[0m\u001b[1;33m\u001b[0m\u001b[1;33m\u001b[0m\u001b[0m\n",
      "\u001b[1;31mIndexError\u001b[0m: dimension specified as 0 but tensor has no dimensions"
     ]
    }
   ],
   "source": [
    "## Examining the training set\n",
    "\n",
    "#i = 0\n",
    "\n",
    "#for i, (_, _, lengths, inputs, targets) in enumerate(train_loader):\n",
    "    \n",
    "#    i = i +1\n",
    "\n",
    "#print('Total: {}'.format(i))\n",
    "\n",
    "#for i, (_, _, lengths, inputs, targets) in enumerate(train_loader):\n",
    "    \n",
    "    #print(lengths)\n",
    "loss_epoch = 0\n",
    "kl_epoch = 0\n",
    "recon_epoch = 0\n",
    "model.train()\n",
    "z_mus_train = 0\n",
    "\n",
    "#zmus = torch.zeros(trainset.maxTrackLen_train, train_n, config.LATENT_SIZE , device = 'cpu')\n",
    "\n",
    "for i, (mmsi, label, lengths, inputs,speedBinLabel,courseBinLabel, targets) in enumerate(train_loader):\n",
    "    inputs = inputs.to(device)\n",
    "    targets = targets.to(device)\n",
    "    lengths = lengths.to(device)\n",
    "    \n",
    "    #Get the maximum length of the current batch\n",
    "    #max_len = int(torch.max(lengths).item())\n",
    "    \n",
    "    print('max_len ',max_len)\n",
    "    \n",
    "    log_px, log_pz, log_qz, _, _, z_mus = model(inputs,targets,label,logits=None)\n",
    "    #print('label: {}'.format(label))\n",
    "    z_mus_train = z_mus\n",
    "    z_means = {\n",
    "        'z_means': z_mus,\n",
    "        'labels': label,\n",
    "        'log_px': log_px,\n",
    "        'log_pz': log_pz,\n",
    "        'log_qz': log_qz\n",
    "    }\n",
    "    \n",
    "    #print('z_mus.shape', z_mus.shape)\n",
    "   # with open('models/saved_models/latentSpace_test.pkl', \"wb\") as f:\n",
    "        \n",
    "   #     pickle.dump(z_means, f)\n",
    "        speedBinLabel = track['speedBinLabel']\n",
    "        courseBinLabel = track['courseBinLabel']\n",
    "        \n",
    "   # print('----------------------------------')\n",
    "    break\n",
    "#    print('--------------------------------------------------------')\n",
    "\n",
    "return  \n",
    "torch.tensor(track['mmsi']), \n",
    "torch.tensor(label),\n",
    "torch.tensor(speedBinLabel),\n",
    "torch.tensor(courseBinLabel), \n",
    "torch.tensor(track['track_length'], dtype=torch.float), \n",
    "inputs, \n",
    "targets"
   ]
  },
  {
   "cell_type": "code",
   "execution_count": 42,
   "id": "dd3d81f5",
   "metadata": {},
   "outputs": [
    {
     "data": {
      "text/plain": [
       "torch.Size([87, 100])"
      ]
     },
     "execution_count": 42,
     "metadata": {},
     "output_type": "execute_result"
    }
   ],
   "source": [
    "z_mus_train[:,3,:].shape"
   ]
  },
  {
   "cell_type": "code",
   "execution_count": 18,
   "id": "b53bf0fa",
   "metadata": {},
   "outputs": [],
   "source": [
    "for epoch in range(1, num_epochs+1): #num_epochs+1\n",
    "    #Begin training loop\n",
    "    tic = time()\n",
    "\n",
    "    loss_epoch = 0\n",
    "    kl_epoch = 0\n",
    "    recon_epoch = 0\n",
    "    model.train()\n",
    "    for i, (_, _, lengths, inputs, targets) in enumerate(train_loader):\n",
    "        inputs = inputs.to(device)\n",
    "        targets = targets.to(device)\n",
    "        lengths = lengths.to(device)\n",
    "        \n",
    "        log_px, log_pz, log_qz, _, _ = model(inputs,targets,logits=None)\n",
    "        \n",
    "        loss, log_px, kl = computeLoss(log_px, log_pz, log_qz, lengths)\n",
    "        \n",
    "        model.zero_grad()\n",
    "        loss.backward()\n",
    "        optimizer.step()\n",
    "        \n",
    "        loss_epoch += loss.item()*len(lengths)\n",
    "        kl_epoch += torch.sum(kl/lengths).item()\n",
    "        recon_epoch += torch.sum(log_px/lengths).item()\n",
    "    \n",
    "    loss_tot.append(loss_epoch/train_n)\n",
    "    kl_tot.append(kl_epoch/train_n)\n",
    "    recon_tot.append(recon_epoch/train_n)\n",
    "    \n",
    "    #Begin validation loop\n",
    "    val_loss = 0\n",
    "    val_kl = 0\n",
    "    val_recon = 0\n",
    "    model.eval()\n",
    "    for i, (_, _, lengths, inputs, targets) in enumerate(test_loader):\n",
    "        inputs = inputs.to(device)\n",
    "        targets = targets.to(device)\n",
    "        lengths = lengths.to(device)\n",
    "        \n",
    "        log_px, log_pz, log_qz, _, _ = model(inputs,targets,logits=None)\n",
    "        \n",
    "        loss, log_px, kl = computeLoss(log_px, log_pz, log_qz, lengths)\n",
    "                \n",
    "        val_loss += loss.item()*len(lengths)\n",
    "        val_kl += torch.sum(kl/lengths).item()\n",
    "        val_recon += torch.sum(log_px/lengths).item()\n",
    "    \n",
    "    val_loss_tot.append(val_loss/test_n)\n",
    "    val_kl_tot.append(val_kl/test_n)\n",
    "    val_recon_tot.append(val_recon/test_n)\n",
    "    \n",
    "    datapoints = np.random.choice(test_n, size = 3, replace=False)\n",
    "    #plotting.make_vae_plots((loss_tot, kl_tot, recon_tot, val_loss_tot, val_kl_tot, val_recon_tot), model, datapoints, testset, binedges, device)\n",
    "    \n",
    "    #print('Epoch {} of {} finished. Trainingloss = {}. Validationloss = {}'.format(epoch, num_epochs, loss_epoch/train_n, val_loss/test_n))\n",
    "    dataset_utils.eprint('Epoch {} of {} finished. Trainingloss = {}. Validationloss = {}'.format(epoch, num_epochs, loss_epoch/train_n, val_loss/test_n))"
   ]
  },
  {
   "cell_type": "code",
   "execution_count": null,
   "id": "b4278a0a",
   "metadata": {},
   "outputs": [],
   "source": []
  },
  {
   "cell_type": "code",
   "execution_count": null,
   "id": "e0f620f4",
   "metadata": {},
   "outputs": [],
   "source": []
  },
  {
   "cell_type": "code",
   "execution_count": null,
   "id": "43dd988d",
   "metadata": {},
   "outputs": [],
   "source": []
  },
  {
   "cell_type": "code",
   "execution_count": 20,
   "id": "ddec43c6",
   "metadata": {},
   "outputs": [],
   "source": [
    "#index:  2777757   total_updates:  238708  totalRows:  238708\n",
    "#index:  9727785   total_updates:  190279  totalRows:  190279"
   ]
  },
  {
   "cell_type": "code",
   "execution_count": 14,
   "id": "d1e19cee",
   "metadata": {},
   "outputs": [],
   "source": [
    "with open(path, \"rb\") as f:\n",
    "    aa = pickle.load(f)"
   ]
  },
  {
   "cell_type": "code",
   "execution_count": 15,
   "id": "8254d1d1",
   "metadata": {},
   "outputs": [
    {
     "data": {
      "text/plain": [
       "dict_keys(['trainIndicies', 'testIndicies', 'dataFileName', 'ROI', 'timeperiod', 'maxspeed', 'navstatuses', 'shiptypes', 'binedges', 'minTrackLength', 'maxTrackLength', 'resampleFrequency'])"
      ]
     },
     "execution_count": 15,
     "metadata": {},
     "output_type": "execute_result"
    }
   ],
   "source": [
    "aa.keys()"
   ]
  },
  {
   "cell_type": "code",
   "execution_count": 16,
   "id": "d3ecd287",
   "metadata": {},
   "outputs": [
    {
     "data": {
      "text/plain": [
       "[70,\n",
       " 71,\n",
       " 72,\n",
       " 73,\n",
       " 74,\n",
       " 75,\n",
       " 76,\n",
       " 77,\n",
       " 78,\n",
       " 79,\n",
       " 80,\n",
       " 81,\n",
       " 82,\n",
       " 83,\n",
       " 84,\n",
       " 85,\n",
       " 86,\n",
       " 87,\n",
       " 88,\n",
       " 89]"
      ]
     },
     "execution_count": 16,
     "metadata": {},
     "output_type": "execute_result"
    }
   ],
   "source": [
    "aa['shiptypes']"
   ]
  },
  {
   "cell_type": "code",
   "execution_count": 21,
   "id": "f46d4c99",
   "metadata": {},
   "outputs": [],
   "source": [
    "latentSpace = 'models/saved_models/latentSpace.pkl'"
   ]
  },
  {
   "cell_type": "code",
   "execution_count": 22,
   "id": "7434caf3",
   "metadata": {},
   "outputs": [],
   "source": [
    "with open(latentSpace, \"rb\") as ff:\n",
    "    bb = pickle.load(ff)"
   ]
  },
  {
   "cell_type": "code",
   "execution_count": 23,
   "id": "dc85c0cd",
   "metadata": {},
   "outputs": [
    {
     "data": {
      "text/plain": [
       "dict_keys(['z_means', 'labels', 'log_px', 'log_pz', 'log_qz'])"
      ]
     },
     "execution_count": 23,
     "metadata": {},
     "output_type": "execute_result"
    }
   ],
   "source": [
    "bb.keys()"
   ]
  },
  {
   "cell_type": "code",
   "execution_count": 27,
   "id": "e3310ddc",
   "metadata": {},
   "outputs": [
    {
     "data": {
      "text/plain": [
       "tensor([1, 0, 0, 1])"
      ]
     },
     "execution_count": 27,
     "metadata": {},
     "output_type": "execute_result"
    }
   ],
   "source": [
    "bb['labels']"
   ]
  },
  {
   "cell_type": "code",
   "execution_count": 48,
   "id": "861178fc",
   "metadata": {},
   "outputs": [],
   "source": [
    "path1 = path + 'CargTank.pkl'"
   ]
  },
  {
   "cell_type": "code",
   "execution_count": 49,
   "id": "bdba5f06",
   "metadata": {},
   "outputs": [],
   "source": [
    "with open(path1, \"rb\") as ff:\n",
    "    bb = pickle.load(ff)"
   ]
  },
  {
   "cell_type": "code",
   "execution_count": 50,
   "id": "ebad5e73",
   "metadata": {},
   "outputs": [
    {
     "data": {
      "text/plain": [
       "dict_keys(['trainIndicies', 'testIndicies', 'dataFileName', 'ROI', 'timeperiod', 'maxspeed', 'navstatuses', 'shiptypes', 'binedges', 'minTrackLength', 'maxTrackLength', 'resampleFrequency'])"
      ]
     },
     "execution_count": 50,
     "metadata": {},
     "output_type": "execute_result"
    }
   ],
   "source": [
    "bb.keys()"
   ]
  },
  {
   "cell_type": "code",
   "execution_count": 87,
   "id": "86ad8c5b",
   "metadata": {},
   "outputs": [],
   "source": [
    "indices = bb['trainIndicies'][:10]"
   ]
  },
  {
   "cell_type": "code",
   "execution_count": 94,
   "id": "1ab2a3b2",
   "metadata": {},
   "outputs": [],
   "source": [
    "def findMaxTrackLength(indices):\n",
    "    \n",
    "    ##\n",
    "    trackLenList = [] \n",
    "\n",
    "    for index in indices:\n",
    "        with open(path_index,'rb') as file:\n",
    "            file.seek(index)\n",
    "            track = pickle.load(file)\n",
    "            trackLenList.append(track['track_length'])\n",
    "    return max(trackLenList)"
   ]
  },
  {
   "cell_type": "code",
   "execution_count": 93,
   "id": "ffa8ec9d",
   "metadata": {},
   "outputs": [
    {
     "data": {
      "text/plain": [
       "[103,\n",
       " 69,\n",
       " 76,\n",
       " 36,\n",
       " 59,\n",
       " 52,\n",
       " 68,\n",
       " 49,\n",
       " 58,\n",
       " 80,\n",
       " 103,\n",
       " 69,\n",
       " 76,\n",
       " 36,\n",
       " 59,\n",
       " 52,\n",
       " 68,\n",
       " 49,\n",
       " 58,\n",
       " 80]"
      ]
     },
     "execution_count": 93,
     "metadata": {},
     "output_type": "execute_result"
    }
   ],
   "source": [
    "trackLenList + trackLenList"
   ]
  },
  {
   "cell_type": "code",
   "execution_count": 65,
   "id": "a91f45b1",
   "metadata": {},
   "outputs": [
    {
     "data": {
      "text/html": [
       "<div>\n",
       "<style scoped>\n",
       "    .dataframe tbody tr th:only-of-type {\n",
       "        vertical-align: middle;\n",
       "    }\n",
       "\n",
       "    .dataframe tbody tr th {\n",
       "        vertical-align: top;\n",
       "    }\n",
       "\n",
       "    .dataframe thead th {\n",
       "        text-align: right;\n",
       "    }\n",
       "</style>\n",
       "<table border=\"1\" class=\"dataframe\">\n",
       "  <thead>\n",
       "    <tr style=\"text-align: right;\">\n",
       "      <th></th>\n",
       "      <th>mmsi</th>\n",
       "      <th>shiptype</th>\n",
       "      <th>track_length</th>\n",
       "      <th>lat</th>\n",
       "      <th>lon</th>\n",
       "      <th>speed</th>\n",
       "      <th>course</th>\n",
       "      <th>speedBinLabel</th>\n",
       "      <th>courseBinLabel</th>\n",
       "      <th>timestamp</th>\n",
       "    </tr>\n",
       "  </thead>\n",
       "  <tbody>\n",
       "    <tr>\n",
       "      <th>0</th>\n",
       "      <td>244267000</td>\n",
       "      <td>89</td>\n",
       "      <td>103</td>\n",
       "      <td>55.0</td>\n",
       "      <td>15.333333</td>\n",
       "      <td>5.666667</td>\n",
       "      <td>252.666667</td>\n",
       "      <td>3</td>\n",
       "      <td>3</td>\n",
       "      <td>1.570796e+09</td>\n",
       "    </tr>\n",
       "    <tr>\n",
       "      <th>1</th>\n",
       "      <td>244267000</td>\n",
       "      <td>89</td>\n",
       "      <td>103</td>\n",
       "      <td>55.0</td>\n",
       "      <td>15.000000</td>\n",
       "      <td>5.428571</td>\n",
       "      <td>255.714286</td>\n",
       "      <td>3</td>\n",
       "      <td>3</td>\n",
       "      <td>1.570796e+09</td>\n",
       "    </tr>\n",
       "    <tr>\n",
       "      <th>2</th>\n",
       "      <td>244267000</td>\n",
       "      <td>89</td>\n",
       "      <td>103</td>\n",
       "      <td>55.0</td>\n",
       "      <td>15.000000</td>\n",
       "      <td>5.454545</td>\n",
       "      <td>254.454545</td>\n",
       "      <td>3</td>\n",
       "      <td>3</td>\n",
       "      <td>1.570797e+09</td>\n",
       "    </tr>\n",
       "    <tr>\n",
       "      <th>3</th>\n",
       "      <td>244267000</td>\n",
       "      <td>89</td>\n",
       "      <td>103</td>\n",
       "      <td>55.0</td>\n",
       "      <td>15.000000</td>\n",
       "      <td>5.804878</td>\n",
       "      <td>257.219512</td>\n",
       "      <td>3</td>\n",
       "      <td>3</td>\n",
       "      <td>1.570798e+09</td>\n",
       "    </tr>\n",
       "    <tr>\n",
       "      <th>4</th>\n",
       "      <td>244267000</td>\n",
       "      <td>89</td>\n",
       "      <td>103</td>\n",
       "      <td>55.0</td>\n",
       "      <td>15.000000</td>\n",
       "      <td>6.046512</td>\n",
       "      <td>256.604651</td>\n",
       "      <td>3</td>\n",
       "      <td>3</td>\n",
       "      <td>1.570798e+09</td>\n",
       "    </tr>\n",
       "    <tr>\n",
       "      <th>...</th>\n",
       "      <td>...</td>\n",
       "      <td>...</td>\n",
       "      <td>...</td>\n",
       "      <td>...</td>\n",
       "      <td>...</td>\n",
       "      <td>...</td>\n",
       "      <td>...</td>\n",
       "      <td>...</td>\n",
       "      <td>...</td>\n",
       "      <td>...</td>\n",
       "    </tr>\n",
       "    <tr>\n",
       "      <th>98</th>\n",
       "      <td>244267000</td>\n",
       "      <td>89</td>\n",
       "      <td>103</td>\n",
       "      <td>54.0</td>\n",
       "      <td>13.000000</td>\n",
       "      <td>9.928571</td>\n",
       "      <td>247.000000</td>\n",
       "      <td>3</td>\n",
       "      <td>3</td>\n",
       "      <td>1.570855e+09</td>\n",
       "    </tr>\n",
       "    <tr>\n",
       "      <th>99</th>\n",
       "      <td>244267000</td>\n",
       "      <td>89</td>\n",
       "      <td>103</td>\n",
       "      <td>54.0</td>\n",
       "      <td>13.000000</td>\n",
       "      <td>10.000000</td>\n",
       "      <td>249.062500</td>\n",
       "      <td>3</td>\n",
       "      <td>3</td>\n",
       "      <td>1.570855e+09</td>\n",
       "    </tr>\n",
       "    <tr>\n",
       "      <th>100</th>\n",
       "      <td>244267000</td>\n",
       "      <td>89</td>\n",
       "      <td>103</td>\n",
       "      <td>54.0</td>\n",
       "      <td>13.000000</td>\n",
       "      <td>10.000000</td>\n",
       "      <td>250.320000</td>\n",
       "      <td>3</td>\n",
       "      <td>3</td>\n",
       "      <td>1.570856e+09</td>\n",
       "    </tr>\n",
       "    <tr>\n",
       "      <th>101</th>\n",
       "      <td>244267000</td>\n",
       "      <td>89</td>\n",
       "      <td>103</td>\n",
       "      <td>54.0</td>\n",
       "      <td>13.000000</td>\n",
       "      <td>10.000000</td>\n",
       "      <td>250.217391</td>\n",
       "      <td>3</td>\n",
       "      <td>3</td>\n",
       "      <td>1.570856e+09</td>\n",
       "    </tr>\n",
       "    <tr>\n",
       "      <th>102</th>\n",
       "      <td>244267000</td>\n",
       "      <td>89</td>\n",
       "      <td>103</td>\n",
       "      <td>54.0</td>\n",
       "      <td>13.000000</td>\n",
       "      <td>10.000000</td>\n",
       "      <td>248.538462</td>\n",
       "      <td>3</td>\n",
       "      <td>3</td>\n",
       "      <td>1.570857e+09</td>\n",
       "    </tr>\n",
       "  </tbody>\n",
       "</table>\n",
       "<p>103 rows × 10 columns</p>\n",
       "</div>"
      ],
      "text/plain": [
       "          mmsi  shiptype  track_length   lat        lon      speed  \\\n",
       "0    244267000        89           103  55.0  15.333333   5.666667   \n",
       "1    244267000        89           103  55.0  15.000000   5.428571   \n",
       "2    244267000        89           103  55.0  15.000000   5.454545   \n",
       "3    244267000        89           103  55.0  15.000000   5.804878   \n",
       "4    244267000        89           103  55.0  15.000000   6.046512   \n",
       "..         ...       ...           ...   ...        ...        ...   \n",
       "98   244267000        89           103  54.0  13.000000   9.928571   \n",
       "99   244267000        89           103  54.0  13.000000  10.000000   \n",
       "100  244267000        89           103  54.0  13.000000  10.000000   \n",
       "101  244267000        89           103  54.0  13.000000  10.000000   \n",
       "102  244267000        89           103  54.0  13.000000  10.000000   \n",
       "\n",
       "         course  speedBinLabel  courseBinLabel     timestamp  \n",
       "0    252.666667              3               3  1.570796e+09  \n",
       "1    255.714286              3               3  1.570796e+09  \n",
       "2    254.454545              3               3  1.570797e+09  \n",
       "3    257.219512              3               3  1.570798e+09  \n",
       "4    256.604651              3               3  1.570798e+09  \n",
       "..          ...            ...             ...           ...  \n",
       "98   247.000000              3               3  1.570855e+09  \n",
       "99   249.062500              3               3  1.570855e+09  \n",
       "100  250.320000              3               3  1.570856e+09  \n",
       "101  250.217391              3               3  1.570856e+09  \n",
       "102  248.538462              3               3  1.570857e+09  \n",
       "\n",
       "[103 rows x 10 columns]"
      ]
     },
     "execution_count": 65,
     "metadata": {},
     "output_type": "execute_result"
    }
   ],
   "source": [
    "tmpdf"
   ]
  },
  {
   "cell_type": "code",
   "execution_count": 58,
   "id": "27c1aadc",
   "metadata": {},
   "outputs": [
    {
     "data": {
      "text/plain": [
       "80"
      ]
     },
     "execution_count": 58,
     "metadata": {},
     "output_type": "execute_result"
    }
   ],
   "source": [
    "max(tmpdf['track_length'])"
   ]
  },
  {
   "cell_type": "code",
   "execution_count": null,
   "id": "9059b11a",
   "metadata": {},
   "outputs": [],
   "source": []
  }
 ],
 "metadata": {
  "kernelspec": {
   "display_name": "Python 3",
   "language": "python",
   "name": "python3"
  },
  "language_info": {
   "codemirror_mode": {
    "name": "ipython",
    "version": 3
   },
   "file_extension": ".py",
   "mimetype": "text/x-python",
   "name": "python",
   "nbconvert_exporter": "python",
   "pygments_lexer": "ipython3",
   "version": "3.8.3"
  }
 },
 "nbformat": 4,
 "nbformat_minor": 5
}
