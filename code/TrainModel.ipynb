{
 "cells": [
  {
   "cell_type": "markdown",
   "id": "811b8ea6",
   "metadata": {},
   "source": [
    "## Train Model"
   ]
  },
  {
   "cell_type": "code",
   "execution_count": 19,
   "id": "a6e70a20",
   "metadata": {},
   "outputs": [],
   "source": [
    "import matplotlib.pyplot as plt\n",
    "import seaborn as sns\n",
    "import numpy as np\n",
    "import pandas as pd\n",
    "import requests\n",
    "import datetime\n",
    "import torch\n",
    "import torch.utils.data\n",
    "import os\n",
    "import importlib\n",
    "import sys\n",
    "import re\n",
    "import pickle\n",
    "from mpl_toolkits import mplot3d\n",
    "from io import BytesIO\n",
    "from math import log, exp, tan, atan, ceil\n",
    "from PIL import Image\n",
    "\n",
    "from utils import dataset_utils\n",
    "from utils import createAISdata\n",
    "#from utils import protobufDecoder\n",
    "#from utils import plotting\n",
    "from models import VRNN\n",
    "from Config import config\n",
    "\n",
    "# To measure the training time\n",
    "from time import time"
   ]
  },
  {
   "cell_type": "code",
   "execution_count": 2,
   "id": "013630ea",
   "metadata": {},
   "outputs": [],
   "source": [
    "datasets_path = \"C://Users//asm//OneDrive - Netcompany/University//Master Thesis//Data//Pickle//\""
   ]
  },
  {
   "cell_type": "code",
   "execution_count": 3,
   "id": "a2b8395e",
   "metadata": {},
   "outputs": [
    {
     "name": "stdout",
     "output_type": "stream",
     "text": [
      ">> Using device: cpu\n"
     ]
    }
   ],
   "source": [
    "device = torch.device(\"cuda:0\" if torch.cuda.is_available() else \"cpu\")\n",
    "print(f\">> Using device: {device}\")\n",
    "if device==\"cuda:0\":\n",
    "    torch.no_grad()\n",
    "    torch.cuda.empty_cache()"
   ]
  },
  {
   "cell_type": "code",
   "execution_count": 4,
   "id": "d65f9a71",
   "metadata": {},
   "outputs": [],
   "source": [
    "shiptypes = config.SHIPTYPE_CARGO + config.SHIPTYPE_TANKER\n",
    "shipFileName = 'test'\n",
    "binedges = (config.LAT_EDGES, config.LON_EDGES, config.SOG_EDGES, config.COG_EDGES)\n",
    "batch_size = 4"
   ]
  },
  {
   "cell_type": "code",
   "execution_count": 5,
   "id": "fa7b7acc",
   "metadata": {},
   "outputs": [],
   "source": [
    "class PadSequence:\n",
    "    def __call__(self, batch):\n",
    "                \n",
    "        # each element in \"batch\" is a tuple ( mmsis,  shiptypes,  lengths, inputs, targets)\n",
    "        # Get each sequence and pad it\n",
    "        mmsis = [x[0] for x in batch] # Maritime Mobile Service Identity numbers\n",
    "        shiptypes = [x[1] for x in batch] # tank, cargo, etc.\n",
    "        lengths = [x[2] for x in batch] # used as measure of size\n",
    "        inputs = [x[3] for x in batch] # they are normalized \n",
    "        targets = [x[4] for x in batch] # seems to contain the real path of the vessel\n",
    "                                        # lat, lon, speed, course (NOT NORMALIZED)\n",
    "                \n",
    "        inputs_padded = torch.nn.utils.rnn.pad_sequence(inputs, batch_first=True)\n",
    "        targets_padded = torch.nn.utils.rnn.pad_sequence(targets, batch_first=True)\n",
    "\n",
    "        return  torch.tensor(mmsis),  torch.tensor(shiptypes),  torch.tensor(lengths, dtype=torch.float), inputs_padded, targets_padded"
   ]
  },
  {
   "cell_type": "code",
   "execution_count": 6,
   "id": "a39983bd",
   "metadata": {},
   "outputs": [],
   "source": [
    "startTime = time.time()"
   ]
  },
  {
   "cell_type": "code",
   "execution_count": 7,
   "id": "83c78641",
   "metadata": {},
   "outputs": [
    {
     "name": "stdout",
     "output_type": "stream",
     "text": [
      "self.Infopath  C://Users//asm//OneDrive - Netcompany/University//Master Thesis//Data//Pickle//CargTank.pkl\n",
      "self.datapath:  C://Users//asm//OneDrive - Netcompany/University//Master Thesis//Data//Pickle//CargTank_idxs.pkl\n"
     ]
    },
    {
     "name": "stderr",
     "output_type": "stream",
     "text": [
      "dataPath: C://Users//asm//OneDrive - Netcompany/University//Master Thesis//Data//Pickle//\n",
      "fileName: CargTank.pkl\n",
      "self.params[dataFileName]: CargTank_idxs.pkl\n"
     ]
    },
    {
     "name": "stdout",
     "output_type": "stream",
     "text": [
      "self.datapath 12 C://Users//asm//OneDrive - Netcompany/University//Master Thesis//Data//Pickle//CargTank_idxs.pkl\n",
      "index:  25193565   total_updates:  621159\n",
      "Total Time in seconds:  41.36721992492676  total time in min:  0.0\n"
     ]
    }
   ],
   "source": [
    "startTime = time.time()\n",
    "\n",
    "trainset = dataset_utils.AISDataset(dataPath = datasets_path, fileName = \"CargTank.pkl\")\n",
    "train_loader = torch.utils.data.DataLoader(trainset, batch_size=batch_size, shuffle=True, pin_memory=True, num_workers = 0, collate_fn=PadSequence())\n",
    "\n",
    "endTime = time.time()\n",
    "\n",
    "totalTimeInSec = endTime - startTime\n",
    "totalTimeInminutes = totalTimeInSec // 60\n",
    "\n",
    "print('Total Time in seconds: ',totalTimeInSec, ' total time in min: ', totalTimeInminutes)"
   ]
  },
  {
   "cell_type": "code",
   "execution_count": 8,
   "id": "afab3c54",
   "metadata": {},
   "outputs": [
    {
     "name": "stdout",
     "output_type": "stream",
     "text": [
      "self.Infopath  C://Users//asm//OneDrive - Netcompany/University//Master Thesis//Data//Pickle//CargTank.pkl\n",
      "self.datapath:  C://Users//asm//OneDrive - Netcompany/University//Master Thesis//Data//Pickle//CargTank_idxs.pkl\n"
     ]
    },
    {
     "name": "stderr",
     "output_type": "stream",
     "text": [
      "dataPath: C://Users//asm//OneDrive - Netcompany/University//Master Thesis//Data//Pickle//\n",
      "fileName: CargTank.pkl\n",
      "self.params[dataFileName]: CargTank_idxs.pkl\n"
     ]
    }
   ],
   "source": [
    "testset = dataset_utils.AISDataset(dataPath = datasets_path, fileName = \"CargTank.pkl\", train_mean = trainset.mean)\n",
    "test_loader = torch.utils.data.DataLoader(testset, batch_size=batch_size, shuffle=False, pin_memory=True, num_workers = 0, collate_fn=PadSequence())"
   ]
  },
  {
   "cell_type": "code",
   "execution_count": 9,
   "id": "112d31c7",
   "metadata": {},
   "outputs": [],
   "source": [
    "train_n = len(trainset)\n",
    "test_n = len(testset)\n",
    "num_batches = len(train_loader)\n",
    "num_epochs = 1"
   ]
  },
  {
   "cell_type": "code",
   "execution_count": 10,
   "id": "710d937c",
   "metadata": {},
   "outputs": [
    {
     "data": {
      "text/plain": [
       "VRNN(\n",
       "  (phi_x): Sequential(\n",
       "    (0): Linear(in_features=752, out_features=100, bias=True)\n",
       "    (1): ReLU()\n",
       "    (2): Linear(in_features=100, out_features=100, bias=True)\n",
       "  )\n",
       "  (phi_z): Sequential(\n",
       "    (0): Linear(in_features=100, out_features=100, bias=True)\n",
       "    (1): ReLU()\n",
       "    (2): Linear(in_features=100, out_features=100, bias=True)\n",
       "  )\n",
       "  (prior): Sequential(\n",
       "    (0): Linear(in_features=100, out_features=100, bias=True)\n",
       "    (1): ReLU()\n",
       "    (2): Linear(in_features=100, out_features=200, bias=True)\n",
       "  )\n",
       "  (encoder): Sequential(\n",
       "    (0): Linear(in_features=200, out_features=100, bias=True)\n",
       "    (1): ReLU()\n",
       "    (2): Linear(in_features=100, out_features=200, bias=True)\n",
       "  )\n",
       "  (decoder): Sequential(\n",
       "    (0): Linear(in_features=200, out_features=100, bias=True)\n",
       "    (1): ReLU()\n",
       "    (2): Linear(in_features=100, out_features=752, bias=True)\n",
       "  )\n",
       "  (rnn): LSTM(200, 100)\n",
       ")"
      ]
     },
     "execution_count": 10,
     "metadata": {},
     "output_type": "execute_result"
    }
   ],
   "source": [
    "model = VRNN.VRNN(input_shape=trainset.datadim, latent_shape=config.LATENT_SIZE, generative_bias=trainset.mean, device=device)\n",
    "optimizer = torch.optim.Adam(model.parameters(), lr=0.0003)\n",
    "\n",
    "load_model = False\n",
    "if load_model:\n",
    "    modelName = 'model_' + shipFileName + '_150'\n",
    "    model.load_state_dict(torch.load('models/saved_models/' + modelName +'.pth', map_location=device))\n",
    "\n",
    "model.to(device)"
   ]
  },
  {
   "cell_type": "code",
   "execution_count": 11,
   "id": "8adcd888",
   "metadata": {},
   "outputs": [],
   "source": [
    "def computeLoss(log_px, log_pz, log_qz, lengths, beta=1):\n",
    "    \n",
    "    max_len = len(log_px)\n",
    "    curmask = torch.arange(max_len, device=device)[:, None] < lengths[None, :] #max_seq_len X Batch\n",
    "    \n",
    "    log_px = torch.stack(log_px, dim=0) * curmask\n",
    "    log_px = log_px.sum(dim=0) #Sum over time\n",
    "   \n",
    "    log_pz = torch.stack(log_pz, dim=0) * curmask\n",
    "    log_qz = torch.stack(log_qz, dim=0) * curmask\n",
    "    kl = log_qz.sum(dim=0) - log_pz.sum(dim=0) #Sum over time\n",
    "    \n",
    "    loss = log_px - beta * kl #recon loss - beta_kl\n",
    "    loss = torch.mean(loss/lengths) #mean over batch\n",
    "    \n",
    "    return -loss, log_px, kl"
   ]
  },
  {
   "cell_type": "code",
   "execution_count": 12,
   "id": "50689692",
   "metadata": {},
   "outputs": [],
   "source": [
    "loss_tot = []\n",
    "kl_tot = []\n",
    "recon_tot = []\n",
    "val_loss_tot = []\n",
    "val_kl_tot = []\n",
    "val_recon_tot = []"
   ]
  },
  {
   "cell_type": "code",
   "execution_count": 13,
   "id": "d70b000e",
   "metadata": {},
   "outputs": [],
   "source": [
    "zmus12 = torch.zeros(testset.maxLength, test_n, config.LATENT_SIZE, device = 'cpu')"
   ]
  },
  {
   "cell_type": "code",
   "execution_count": 14,
   "id": "ec8dc451",
   "metadata": {},
   "outputs": [
    {
     "data": {
      "text/plain": [
       "torch.Size([144, 2431, 100])"
      ]
     },
     "execution_count": 14,
     "metadata": {},
     "output_type": "execute_result"
    }
   ],
   "source": [
    "zmus12.shape"
   ]
  },
  {
   "cell_type": "code",
   "execution_count": 16,
   "id": "a727e420",
   "metadata": {},
   "outputs": [
    {
     "name": "stdout",
     "output_type": "stream",
     "text": [
      "logits.shape:  torch.Size([70, 4, 752])\n",
      "seq_len:  70\n",
      "trainset.datadim:  752\n",
      "z_mus.shape  torch.Size([70, 4, 100])\n",
      "--------------------------------\n"
     ]
    }
   ],
   "source": [
    "for epoch in range(1, num_epochs+1): #num_epochs+1\n",
    "    #Begin training loop\n",
    "    tic = time.time()\n",
    "\n",
    "    loss_epoch = 0\n",
    "    kl_epoch = 0\n",
    "    recon_epoch = 0\n",
    "    model.train()\n",
    "    zmus = torch.zeros(testset.maxLength, test_n, config.LATENT_SIZE, device = 'cpu')\n",
    "    \n",
    "    fullLogits = torch.zeros(testset.maxLength, test_n, testset.datadim, device = 'cpu')\n",
    "    \n",
    "    for i, (mmsi, label, lengths, inputs, targets) in enumerate(test_loader):\n",
    "        inputs = inputs.to(device)\n",
    "        targets = targets.to(device)\n",
    "        lengths = lengths.to(device)\n",
    "        \n",
    "        batch_size, seq_len, datadim = inputs.shape\n",
    "        \n",
    "        #logits = torch.zeros(seq_len, len(label), trainset.datadim , device = 'cpu')\n",
    "        \n",
    "        #Get the maximum length of the current batch\n",
    "        max_len = int(torch.max(lengths).item())\n",
    "        \n",
    "        log_px, log_pz, log_qz, logits, _, z_mus = model(inputs,targets,label,logits=None)\n",
    "        \n",
    "        #Calculate endIndex which is used to store current batch in zmus\n",
    "        endIndex = (batch_size*(i+1)) if (batch_size*(i+1)) <= test_n else test_n\n",
    "   \n",
    "        #Store current batch means in zmus\n",
    "        zmus[:max_len,(batch_size*i):endIndex,:] = z_mus.detach().cpu()\n",
    "        \n",
    "        fullLogits[:max_len,(batch_size*i):endIndex,:] = logits.detach().cpu()\n",
    "        \n",
    "        loss, log_px, kl = computeLoss(log_px, log_pz, log_qz, lengths)\n",
    "                \n",
    "        #val_loss += loss.item()*len(lengths)\n",
    "        #val_kl += torch.sum(kl/lengths).item()\n",
    "        #val_recon += torch.sum(log_px/lengths).item()\n",
    "        \n",
    "        \n",
    "        print('logits.shape: ', logits.shape)\n",
    "        print('seq_len: ',seq_len)\n",
    "        print('trainset.datadim: ',trainset.datadim)\n",
    "        print('z_mus.shape ', z_mus.shape)\n",
    "        print('--------------------------------')\n",
    "        break;\n",
    "        \n",
    "        \n",
    "        #z_means = {\n",
    "        #    'Epoch': epoch,\n",
    "        #    'z_means': z_mus,\n",
    "        #    'labels': label,\n",
    "        #    'log_px': log_px,\n",
    "        #    'log_pz': log_pz,\n",
    "        #    'log_qz': log_qz\n",
    "        #    }\n",
    "        \n",
    "        #with open('models/saved_models/latentSpace_train.pkl', \"wb\") as f:\n",
    "            #\n",
    "        \n",
    "        #    pickle.dump(z_means, f)\n",
    "        \n",
    "    "
   ]
  },
  {
   "cell_type": "code",
   "execution_count": 18,
   "id": "d953fe73",
   "metadata": {},
   "outputs": [
    {
     "data": {
      "text/plain": [
       "torch.Size([144, 2431, 752])"
      ]
     },
     "execution_count": 18,
     "metadata": {},
     "output_type": "execute_result"
    }
   ],
   "source": [
    "fullLogits.shape"
   ]
  },
  {
   "cell_type": "code",
   "execution_count": null,
   "id": "39c20d0b",
   "metadata": {},
   "outputs": [],
   "source": []
  },
  {
   "cell_type": "code",
   "execution_count": null,
   "id": "23d89871",
   "metadata": {},
   "outputs": [],
   "source": []
  },
  {
   "cell_type": "code",
   "execution_count": null,
   "id": "9682d9aa",
   "metadata": {},
   "outputs": [],
   "source": []
  },
  {
   "cell_type": "code",
   "execution_count": null,
   "id": "ed4ffd30",
   "metadata": {},
   "outputs": [],
   "source": []
  },
  {
   "cell_type": "code",
   "execution_count": null,
   "id": "20a12cbd",
   "metadata": {},
   "outputs": [],
   "source": []
  },
  {
   "cell_type": "code",
   "execution_count": null,
   "id": "9372a301",
   "metadata": {},
   "outputs": [],
   "source": []
  },
  {
   "cell_type": "code",
   "execution_count": null,
   "id": "b821b13b",
   "metadata": {},
   "outputs": [],
   "source": []
  },
  {
   "cell_type": "code",
   "execution_count": null,
   "id": "b0db369b",
   "metadata": {},
   "outputs": [],
   "source": []
  },
  {
   "cell_type": "code",
   "execution_count": null,
   "id": "4bc724ef",
   "metadata": {},
   "outputs": [],
   "source": []
  },
  {
   "cell_type": "code",
   "execution_count": null,
   "id": "49854db9",
   "metadata": {},
   "outputs": [],
   "source": []
  },
  {
   "cell_type": "code",
   "execution_count": null,
   "id": "95fa0b80",
   "metadata": {},
   "outputs": [
    {
     "name": "stdout",
     "output_type": "stream",
     "text": [
      "Total time taken for training 2429 epoch is 971.4165139198303 seconds and 16.0 min\n"
     ]
    }
   ],
   "source": [
    "for epoch in range(1, num_epochs+1): #num_epochs+1\n",
    "    #Begin training loop\n",
    "    tic = time()\n",
    "\n",
    "    loss_epoch = 0\n",
    "    kl_epoch = 0\n",
    "    recon_epoch = 0\n",
    "    model.train()\n",
    "    for i, (mmsi, label, lengths, inputs, targets) in enumerate(train_loader):\n",
    "        inputs = inputs.to(device)\n",
    "        targets = targets.to(device)\n",
    "        lengths = lengths.to(device)\n",
    "        \n",
    "        log_px, log_pz, log_qz, _, _, z_mus = model(inputs,targets,label,logits=None)\n",
    "        \n",
    "        loss, log_px, kl = computeLoss(log_px, log_pz, log_qz, lengths)\n",
    "        \n",
    "        model.zero_grad()\n",
    "        loss.backward()\n",
    "        optimizer.step()\n",
    "        \n",
    "        loss_epoch += loss.item()*len(lengths)\n",
    "        kl_epoch += torch.sum(kl/lengths).item()\n",
    "        recon_epoch += torch.sum(log_px/lengths).item()\n",
    "        \n",
    "        #z_means = {\n",
    "        #    'Epoch': epoch,\n",
    "        #    'z_means': z_mus,\n",
    "        #    'labels': label,\n",
    "        #    'log_px': log_px,\n",
    "        #    'log_pz': log_pz,\n",
    "        #    'log_qz': log_qz\n",
    "        #    }\n",
    "        \n",
    "        #with open('models/saved_models/latentSpace_train.pkl', \"wb\") as f:\n",
    "            #\n",
    "        \n",
    "        #    pickle.dump(z_means, f)\n",
    "    \n",
    "    loss_tot.append(loss_epoch/train_n)\n",
    "    kl_tot.append(kl_epoch/train_n)\n",
    "    recon_tot.append(recon_epoch/train_n)\n",
    "    \n",
    "    #Begin validation loop\n",
    "    zmus = torch.zeros(testset.maxLength, test_n, config.LATENT_SIZE, device = 'cpu')\n",
    "    \n",
    "    fullLogits = torch.zeros(testset.maxLength, test_n, testset.datadim, device = 'cpu')\n",
    "    \n",
    "    toc = time()\n",
    "    \n",
    "    trainTimeInSec = (toc-tic)\n",
    "    \n",
    "    print('Total time taken for training {} epoch is {} seconds and {} min'.format(i, trainTimeInSec, (trainTimeInSec//60)))\n",
    "    \n",
    "    \n",
    "    val_loss = 0\n",
    "    val_kl = 0\n",
    "    val_recon = 0\n",
    "    model.eval()\n",
    "    for i, (mmsi, label, lengths, inputs, targets) in enumerate(test_loader):\n",
    "        inputs = inputs.to(device)\n",
    "        targets = targets.to(device)\n",
    "        lengths = lengths.to(device)\n",
    "        \n",
    "        batch_size, seq_len, datadim = inputs.shape\n",
    "        \n",
    "        #logits = torch.zeros(seq_len, len(label), trainset.datadim , device = 'cpu')\n",
    "        \n",
    "        #Get the maximum length of the current batch\n",
    "        max_len = int(torch.max(lengths).item())\n",
    "        \n",
    "        log_px, log_pz, log_qz, logits, _, z_mus = model(inputs,targets,label,logits=None)\n",
    "        \n",
    "        #Calculate endIndex which is used to store current batch in zmus\n",
    "        endIndex = (batch_size*(i+1)) if (batch_size*(i+1)) <= test_n else test_n\n",
    "   \n",
    "        #Store current batch means in zmus\n",
    "        zmus[:max_len,(batch_size*i):endIndex,:] = z_mus.detach().cpu()\n",
    "        \n",
    "        fullLogits[:max_len,(batch_size*i):endIndex,:] = logits.detach().cpu()\n",
    "        \n",
    "        loss, log_px, kl = computeLoss(log_px, log_pz, log_qz, lengths)\n",
    "                \n",
    "        val_loss += loss.item()*len(lengths)\n",
    "        val_kl += torch.sum(kl/lengths).item()\n",
    "        val_recon += torch.sum(log_px/lengths).item()\n",
    "    \n",
    "    testToc = time()\n",
    "    testTimeInSec = (testToc-tic) - trainTimeInSec\n",
    "    \n",
    "    print('Total time taken for test {} epoch is {} seconds and {} min'.format(i, testTimeInSec, (testTimeInSec//60)))\n",
    "        \n",
    "    with open('models/saved_models/latentSpace_test.pkl', \"wb\") as f:\n",
    "        \n",
    "        ###\n",
    "        z_means = {\n",
    "            'Epoch': epoch,\n",
    "            'z_means': zmus,\n",
    "            'Logits' : fullLogits\n",
    "\n",
    "         }\n",
    "        \n",
    "        pickle.dump(z_means, f)\n",
    "        \n",
    "    saveToc = time()\n",
    "    saveTimeInSec = (saveToc-tic) - testToc\n",
    "    \n",
    "    print('Total time taken for test {} epoch is {} seconds and {} min'.format(i, saveTimeInSec, (saveTimeInSec//60)))\n",
    "    \n",
    "    \n",
    "    val_loss_tot.append(val_loss/test_n)\n",
    "    val_kl_tot.append(val_kl/test_n)\n",
    "    val_recon_tot.append(val_recon/test_n)\n",
    "    \n",
    "    datapoints = np.random.choice(test_n, size = 3, replace=False)\n",
    "    #plotting.make_vae_plots((loss_tot, kl_tot, recon_tot, val_loss_tot, val_kl_tot, val_recon_tot), model, datapoints, testset, binedges, device)\n",
    "    \n",
    "    #print('Epoch {} of {} finished. Trainingloss = {}. Validationloss = {}'.format(epoch, num_epochs, loss_epoch/train_n, val_loss/test_n))\n",
    "    dataset_utils.eprint('Epoch {} of {} finished. Trainingloss = {}. Validationloss = {}'.format(epoch, num_epochs, loss_epoch/train_n, val_loss/test_n))\n",
    "\n",
    "    toc = time()\n",
    "    dataset_utils.eprint(\"Time taken to train and test in {} epoch is {}\".format(epoch, (toc-tic)))\n",
    "    \n",
    "    trainingCurves = {\n",
    "        'loss_tot': loss_tot,\n",
    "        'kl_tot': kl_tot,\n",
    "        'recon_tot': recon_tot,\n",
    "        'val_loss_tot': val_loss_tot,\n",
    "        'val_kl_tot': val_kl_tot,\n",
    "        'val_recon_tot': val_recon_tot\n",
    "    }\n",
    "    with open('models/saved_models/trainingCurves_' + shipFileName + '.pkl', \"wb\") as f:\n",
    "        pickle.dump(trainingCurves, f)\n",
    "    \n",
    "    if (epoch%5==0):\n",
    "        torch.save(model.state_dict(), 'models/saved_models/model_' + shipFileName + '_' + str(epoch) + '.pth')\n",
    "        \n",
    "\n",
    "trainingCurves = {\n",
    "    'loss_tot': loss_tot,\n",
    "    'kl_tot': kl_tot,\n",
    "    'recon_tot': recon_tot,\n",
    "    'val_loss_tot': val_loss_tot,\n",
    "    'val_kl_tot': val_kl_tot,\n",
    "    'val_recon_tot': val_recon_tot\n",
    "}\n",
    "\n",
    "print('loss_tot: {}'.format(loss_tot))\n",
    "print('kl_tot: {}'.format(kl_tot))\n",
    "print('recon_tot: {}'.format(recon_tot))\n",
    "print('val_loss_tot: {}'.format(val_loss_tot))\n",
    "print('val_kl_tot: {}'.format(val_kl_tot))\n",
    "print('val_recon_tot: {}'.format(val_recon_tot))\n",
    "\n",
    "torch.save(model.state_dict(), 'models/model_' + shipFileName + '.pth')\n",
    "with open('models/trainingCurves_' + shipFileName + '.pkl', \"wb\") as f:\n",
    "        pickle.dump(trainingCurves, f)"
   ]
  },
  {
   "cell_type": "code",
   "execution_count": null,
   "id": "c9490f86",
   "metadata": {},
   "outputs": [],
   "source": []
  }
 ],
 "metadata": {
  "kernelspec": {
   "display_name": "Python 3",
   "language": "python",
   "name": "python3"
  },
  "language_info": {
   "codemirror_mode": {
    "name": "ipython",
    "version": 3
   },
   "file_extension": ".py",
   "mimetype": "text/x-python",
   "name": "python",
   "nbconvert_exporter": "python",
   "pygments_lexer": "ipython3",
   "version": "3.8.3"
  }
 },
 "nbformat": 4,
 "nbformat_minor": 5
}
